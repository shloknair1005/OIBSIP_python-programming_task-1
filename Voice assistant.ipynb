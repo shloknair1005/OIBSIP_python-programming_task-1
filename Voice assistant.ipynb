{
 "cells": [
  {
   "cell_type": "code",
   "execution_count": 11,
   "id": "aca2b929-76d2-41ff-b14e-594342a86583",
   "metadata": {},
   "outputs": [],
   "source": [
    "import speech_recognition as sr\n",
    "import pyttsx3\n",
    "import datetime\n",
    "import webbrowser\n",
    "import datetime"
   ]
  },
  {
   "cell_type": "code",
   "execution_count": 2,
   "id": "e8a04210-d711-45a0-b2c3-ab8a10be8ac1",
   "metadata": {},
   "outputs": [],
   "source": [
    "engine = pyttsx3.init()\n",
    "def speak(text):\n",
    "    engine.say(text)\n",
    "    engine.runAndWait()\n"
   ]
  },
  {
   "cell_type": "code",
   "execution_count": 3,
   "id": "5681473f-2643-4d3b-a43d-fb002e3b3839",
   "metadata": {},
   "outputs": [],
   "source": [
    "def listen():\n",
    "    recognizer = sr.Recognizer()\n",
    "    with sr.Microphone() as source:\n",
    "        print(\"🎤 Listening...\")\n",
    "        speak(\"I am listening\")\n",
    "        audio = recognizer.listen(source)\n",
    "    try:\n",
    "        command = recognizer.recognize_google(audio)\n",
    "        print(\"You said:\", command)\n",
    "        return command.lower()\n",
    "    except sr.UnknownValueError:\n",
    "        speak(\"Sorry, I didn't understand.\")\n",
    "        return \"\"\n",
    "    except sr.RequestError:\n",
    "        speak(\"Google Speech Recognition is unavailable.\")\n",
    "        return \"\"\n"
   ]
  },
  {
   "cell_type": "code",
   "execution_count": 12,
   "id": "7614e4f8-05a7-4106-ab41-a20b603b476b",
   "metadata": {},
   "outputs": [],
   "source": [
    "def handle_command(command):\n",
    "    if \"hello\" in command:\n",
    "        speak(\"Hey! What's up?\")\n",
    "    elif \"time\" in command:\n",
    "        time_now = datetime.datetime.now().strftime(\"%H:%M\")\n",
    "        speak(f\"The time is {time_now}\")\n",
    "    elif \"date\" in command:\n",
    "        today = datetime.datetime.now().strftime(\"%B %d, %Y\")\n",
    "        speak(f\"Today's date is {today}\")\n",
    "    elif \"open google\" in command:\n",
    "        webbrowser.open(\"https://www.google.com\")\n",
    "        speak(\"Opening Google\")\n",
    "    elif \"open youtube\" in command:\n",
    "        webbrowser.open(\"https://www.youtube.com\")\n",
    "        speak(\"Opening YouTube\")\n",
    "    elif \"name\" in command:\n",
    "        speak(\"My name is Max Jr.\")\n",
    "    elif \"bye\" in command or \"exit\" in command:\n",
    "        speak(\"Goodbye!\")\n",
    "        return False\n",
    "    else:\n",
    "        speak(\"I can't do that yet, but I'm learning!\")\n",
    "    return True\n"
   ]
  },
  {
   "cell_type": "code",
   "execution_count": 13,
   "id": "c7428616-222d-4ee5-aef2-c8c942ced7dd",
   "metadata": {},
   "outputs": [
    {
     "name": "stdout",
     "output_type": "stream",
     "text": [
      "🎤 Listening...\n",
      "You said: hello\n",
      "🎤 Listening...\n",
      "You said: date date\n",
      "🎤 Listening...\n",
      "You said: time time\n",
      "🎤 Listening...\n",
      "🎤 Listening...\n",
      "You said: open YouTube\n",
      "🎤 Listening...\n",
      "You said: open Google\n",
      "🎤 Listening...\n",
      "You said: bye\n"
     ]
    }
   ],
   "source": [
    "while True:\n",
    "    cmd = listen()\n",
    "    if not handle_command(cmd):\n",
    "        break\n"
   ]
  },
  {
   "cell_type": "code",
   "execution_count": null,
   "id": "d6494408-ac2f-4460-bded-d4fb32ea8fb6",
   "metadata": {},
   "outputs": [],
   "source": []
  }
 ],
 "metadata": {
  "kernelspec": {
   "display_name": "Python 3 (ipykernel)",
   "language": "python",
   "name": "python3"
  },
  "language_info": {
   "codemirror_mode": {
    "name": "ipython",
    "version": 3
   },
   "file_extension": ".py",
   "mimetype": "text/x-python",
   "name": "python",
   "nbconvert_exporter": "python",
   "pygments_lexer": "ipython3",
   "version": "3.10.18"
  }
 },
 "nbformat": 4,
 "nbformat_minor": 5
}
